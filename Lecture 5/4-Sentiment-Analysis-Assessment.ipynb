{
  "cells": [
    {
      "cell_type": "markdown",
      "metadata": {
        "id": "sQezBbdFvdO9"
      },
      "source": [
        "# Sentiment Analysis Assessment - Solution\n",
        "\n",
        "## Task #1: Perform vector arithmetic on your own words\n",
        "Write code that evaluates vector arithmetic on your own set of related words. The goal is to come as close to an expected word as possible. Please feel free to share success stories in the Q&A Forum for this section!"
      ]
    },
    {
      "cell_type": "code",
      "execution_count": null,
      "metadata": {
        "id": "uSc0IFrmvdO_"
      },
      "outputs": [],
      "source": [
        "# Import spaCy and load the language library. Remember to use a larger model!\n"
      ]
    },
    {
      "cell_type": "code",
      "execution_count": null,
      "metadata": {
        "id": "0auz9TuUvdPB"
      },
      "outputs": [],
      "source": [
        "# Choose the words you wish to compare, and obtain their vectors\n",
        "\n",
        "\n"
      ]
    },
    {
      "cell_type": "code",
      "execution_count": null,
      "metadata": {
        "id": "E5Bq_U_qvdPC"
      },
      "outputs": [],
      "source": [
        "# Import spatial and define a cosine_similarity function\n",
        "\n",
        "\n"
      ]
    },
    {
      "cell_type": "code",
      "execution_count": null,
      "metadata": {
        "id": "oH--JaGyvdPC"
      },
      "outputs": [],
      "source": [
        "# Write an expression for vector arithmetic\n",
        "# For example: new_vector = word1 - word2 + word3\n"
      ]
    },
    {
      "cell_type": "code",
      "execution_count": null,
      "metadata": {
        "id": "fFezXABpvdPC"
      },
      "outputs": [],
      "source": [
        "# List the top ten closest vectors in the vocabulary to the result of the expression above\n",
        "\n",
        "\n",
        "\n",
        "\n",
        "\n",
        "\n",
        "\n",
        "\n",
        "\n",
        "\n",
        "\n"
      ]
    },
    {
      "cell_type": "markdown",
      "metadata": {
        "id": "0wSPvbTxvdPD"
      },
      "source": [
        "#### CHALLENGE: Write a function that takes in 3 strings, performs a-b+c arithmetic, and returns a top-ten result"
      ]
    },
    {
      "cell_type": "code",
      "execution_count": null,
      "metadata": {
        "id": "Y1h8ngSQvdPD"
      },
      "outputs": [],
      "source": [
        "def vector_math(a,b,c):\n",
        "\n",
        "\n",
        "\n",
        "\n",
        "\n",
        "\n",
        "\n",
        "\n",
        "\n",
        "\n",
        "\n",
        "\n"
      ]
    },
    {
      "cell_type": "code",
      "execution_count": null,
      "metadata": {
        "id": "XSFirQjpvdPD"
      },
      "outputs": [],
      "source": [
        "# Test the function on known words:\n",
        "vector_math('king','man','woman')"
      ]
    },
    {
      "cell_type": "markdown",
      "metadata": {
        "id": "Of75LLZbvdPD"
      },
      "source": [
        "## Task #2: Perform VADER Sentiment Analysis on your own review\n",
        "Write code that returns a set of SentimentIntensityAnalyzer polarity scores based on your own written review."
      ]
    },
    {
      "cell_type": "code",
      "execution_count": null,
      "metadata": {
        "id": "7kGGSny0vdPD"
      },
      "outputs": [],
      "source": [
        "# Import SentimentIntensityAnalyzer and create an sid object\n",
        "\n",
        "\n"
      ]
    },
    {
      "cell_type": "code",
      "execution_count": null,
      "metadata": {
        "id": "oAIEtdlovdPE"
      },
      "outputs": [],
      "source": [
        "# Write a review as one continuous string (multiple sentences are ok)\n",
        "review = ''"
      ]
    },
    {
      "cell_type": "code",
      "execution_count": null,
      "metadata": {
        "id": "Tf1DERiBvdPE"
      },
      "outputs": [],
      "source": [
        "# Obtain the sid scores for your review\n",
        "sid.polarity_scores(review)"
      ]
    },
    {
      "cell_type": "markdown",
      "metadata": {
        "id": "FBnSK4kwvdPF"
      },
      "source": [
        "### CHALLENGE: Write a function that takes in a review and returns a score of \"Positive\", \"Negative\" or \"Neutral\""
      ]
    },
    {
      "cell_type": "code",
      "execution_count": null,
      "metadata": {
        "id": "Ox_cS_BEvdPF"
      },
      "outputs": [],
      "source": [
        "def review_rating(string):\n",
        "\n",
        "\n",
        "\n",
        "\n",
        "\n",
        "\n"
      ]
    },
    {
      "cell_type": "code",
      "execution_count": null,
      "metadata": {
        "id": "Y-Ph6ImFvdPG"
      },
      "outputs": [],
      "source": [
        "# Test the function on your review above:\n",
        "review_rating(review)"
      ]
    }
  ],
  "metadata": {
    "kernelspec": {
      "display_name": "Python 3 (ipykernel)",
      "language": "python",
      "name": "python3"
    },
    "language_info": {
      "codemirror_mode": {
        "name": "ipython",
        "version": 3
      },
      "file_extension": ".py",
      "mimetype": "text/x-python",
      "name": "python",
      "nbconvert_exporter": "python",
      "pygments_lexer": "ipython3",
      "version": "3.8.16"
    },
    "colab": {
      "provenance": []
    }
  },
  "nbformat": 4,
  "nbformat_minor": 0
}