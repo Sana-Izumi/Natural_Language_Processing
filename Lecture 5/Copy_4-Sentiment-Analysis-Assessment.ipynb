{
  "cells": [
    {
      "cell_type": "markdown",
      "metadata": {
        "id": "sQezBbdFvdO9"
      },
      "source": [
        "# Sentiment Analysis Assessment - Solution\n",
        "\n",
        "## Task #1: Perform vector arithmetic on your own words\n",
        "Write code that evaluates vector arithmetic on your own set of related words. The goal is to come as close to an expected word as possible. Please feel free to share success stories in the Q&A Forum for this section!"
      ]
    },
    {
      "cell_type": "code",
      "source": [
        "!pip install -U spacy\n",
        "!python -m spacy download en_core_web_md"
      ],
      "metadata": {
        "id": "gz9cBeI-Gtil"
      },
      "execution_count": null,
      "outputs": []
    },
    {
      "cell_type": "code",
      "execution_count": 27,
      "metadata": {
        "id": "uSc0IFrmvdO_"
      },
      "outputs": [],
      "source": [
        "# Import spaCy and load the language library. Remember to use a larger model!\n",
        "import spacy\n",
        "nlp = spacy.load('en_core_web_md')\n",
        "#nlp = spacy.load('en_core_web_lg')\n",
        "#nlp = spacy.load('en_vectors_web_lg')"
      ]
    },
    {
      "cell_type": "code",
      "execution_count": 28,
      "metadata": {
        "id": "0auz9TuUvdPB"
      },
      "outputs": [],
      "source": [
        "# Choose the words you wish to compare, and obtain their vectors\n",
        "Paris = nlp.vocab['Paris'].vector\n",
        "France = nlp.vocab['France'].vector\n",
        "Japan = nlp.vocab['Japan'].vector\n"
      ]
    },
    {
      "cell_type": "code",
      "execution_count": 29,
      "metadata": {
        "id": "E5Bq_U_qvdPC"
      },
      "outputs": [],
      "source": [
        "# Import spatial and define a cosine_similarity function\n",
        "from scipy import spatial\n",
        "\n",
        "cosine_similarity = lambda x, y: 1 - spatial.distance.cosine(x, y)"
      ]
    },
    {
      "cell_type": "code",
      "execution_count": 30,
      "metadata": {
        "id": "oH--JaGyvdPC"
      },
      "outputs": [],
      "source": [
        "# Write an expression for vector arithmetic\n",
        "# For example: new_vector = word1 - word2 + word3\n",
        "new_vector = Paris - France + Japan"
      ]
    },
    {
      "cell_type": "code",
      "execution_count": 31,
      "metadata": {
        "colab": {
          "base_uri": "https://localhost:8080/"
        },
        "id": "fFezXABpvdPC",
        "outputId": "c8df0114-3c6f-4f9a-c387-47c1e91784d0"
      },
      "outputs": [
        {
          "output_type": "stream",
          "name": "stdout",
          "text": [
            "['she', 'he', 'was', 'bout', 'where', 'when', 'on', 'this', 've', 'nuff']\n"
          ]
        }
      ],
      "source": [
        "# List the top ten closest vectors in the vocabulary to the result of the expression above\n",
        "computed_similarities = []\n",
        "\n",
        "for word in nlp.vocab:\n",
        "    # Ignore words without vectors and mixed-case words:\n",
        "    if word.has_vector and word.is_lower and word.is_alpha:\n",
        "        similarity = cosine_similarity(new_vector, word.vector)\n",
        "        computed_similarities.append((word, similarity))\n",
        "\n",
        "# Sort the computed similarities by similarity score in descending order\n",
        "computed_similarities = sorted(computed_similarities, key=lambda item: -item[1])\n",
        "\n",
        "# Print the top 10 closest words in the vocabulary\n",
        "print([w[0].text for w in computed_similarities[:10]])\n"
      ]
    },
    {
      "cell_type": "markdown",
      "metadata": {
        "id": "0wSPvbTxvdPD"
      },
      "source": [
        "#### CHALLENGE: Write a function that takes in 3 strings, performs a-b+c arithmetic, and returns a top-ten result"
      ]
    },
    {
      "cell_type": "code",
      "execution_count": 32,
      "metadata": {
        "id": "Y1h8ngSQvdPD"
      },
      "outputs": [],
      "source": [
        "def vector_math(a, b, c):\n",
        "    # Choose the words you wish to compare, and obtain their vectors\n",
        "    a_vec = nlp.vocab[a].vector\n",
        "    b_vec = nlp.vocab[b].vector\n",
        "    c_vec = nlp.vocab[c].vector\n",
        "\n",
        "    # Define the cosine similarity function\n",
        "    cosine_similarity = lambda x, y: 1 - spatial.distance.cosine(x, y)\n",
        "\n",
        "    # Write an expression for vector arithmetic\n",
        "    new_vector = a_vec - b_vec + c_vec\n",
        "\n",
        "    # List the top ten closest vectors in the vocabulary to the result of the expression above\n",
        "    computed_similarities = []\n",
        "\n",
        "    for word in nlp.vocab:\n",
        "        # Ignore words without vectors and mixed-case words:\n",
        "        if word.has_vector and word.is_lower and word.is_alpha:\n",
        "            similarity = cosine_similarity(new_vector, word.vector)\n",
        "            computed_similarities.append((word, similarity))\n",
        "\n",
        "    # Sort the computed similarities by similarity score in descending order\n",
        "    computed_similarities = sorted(computed_similarities, key=lambda item: -item[1])\n",
        "\n",
        "    # Return the top 10 closest words in the vocabulary\n",
        "    return [w[0].text for w in computed_similarities[:10]]\n",
        "\n",
        "\n",
        ""
      ]
    },
    {
      "cell_type": "code",
      "execution_count": 33,
      "metadata": {
        "colab": {
          "base_uri": "https://localhost:8080/"
        },
        "id": "XSFirQjpvdPD",
        "outputId": "9da3a81d-d452-48e4-c73e-f2623c6e457c"
      },
      "outputs": [
        {
          "output_type": "execute_result",
          "data": {
            "text/plain": [
              "['king',\n",
              " 'and',\n",
              " 'that',\n",
              " 'havin',\n",
              " 'where',\n",
              " 'she',\n",
              " 'they',\n",
              " 'woman',\n",
              " 'somethin',\n",
              " 'there']"
            ]
          },
          "metadata": {},
          "execution_count": 33
        }
      ],
      "source": [
        "# Test the function on known words:\n",
        "vector_math('king','man','woman')"
      ]
    },
    {
      "cell_type": "markdown",
      "metadata": {
        "id": "Of75LLZbvdPD"
      },
      "source": [
        "## Task #2: Perform VADER Sentiment Analysis on your own review\n",
        "Write code that returns a set of SentimentIntensityAnalyzer polarity scores based on your own written review."
      ]
    },
    {
      "cell_type": "code",
      "execution_count": 36,
      "metadata": {
        "colab": {
          "base_uri": "https://localhost:8080/"
        },
        "id": "7kGGSny0vdPD",
        "outputId": "c8c518c3-038f-4b67-ba15-9847194e2206"
      },
      "outputs": [
        {
          "output_type": "stream",
          "name": "stderr",
          "text": [
            "[nltk_data] Downloading package vader_lexicon to /root/nltk_data...\n"
          ]
        }
      ],
      "source": [
        "# Import SentimentIntensityAnalyzer and create an sid object\n",
        "import nltk\n",
        "nltk.download('vader_lexicon')\n",
        "\n",
        "from nltk.sentiment.vader import SentimentIntensityAnalyzer\n",
        "\n",
        "sid = SentimentIntensityAnalyzer()\n"
      ]
    },
    {
      "cell_type": "code",
      "execution_count": 41,
      "metadata": {
        "id": "oAIEtdlovdPE"
      },
      "outputs": [],
      "source": [
        "# Write a review as one continuous string (multiple sentences are ok)\n",
        "review = \"This cafe has became one of my favorites! As here is getting more popular, the waiting time gets longer and some youngs were noisy. But the food and beverages were delicious, the ambiance was great, and the service was professional. I will definitely be coming back here again!\"\n"
      ]
    },
    {
      "cell_type": "code",
      "execution_count": 42,
      "metadata": {
        "colab": {
          "base_uri": "https://localhost:8080/"
        },
        "id": "Tf1DERiBvdPE",
        "outputId": "0a4dfdb5-13a4-4e01-ecbb-7724e3379d54"
      },
      "outputs": [
        {
          "output_type": "execute_result",
          "data": {
            "text/plain": [
              "{'neg': 0.022, 'neu': 0.671, 'pos': 0.307, 'compound': 0.9608}"
            ]
          },
          "metadata": {},
          "execution_count": 42
        }
      ],
      "source": [
        "# Obtain the sid scores for your review\n",
        "sid.polarity_scores(review)"
      ]
    },
    {
      "cell_type": "markdown",
      "metadata": {
        "id": "FBnSK4kwvdPF"
      },
      "source": [
        "### CHALLENGE: Write a function that takes in a review and returns a score of \"Positive\", \"Negative\" or \"Neutral\""
      ]
    },
    {
      "cell_type": "code",
      "execution_count": 45,
      "metadata": {
        "id": "Ox_cS_BEvdPF"
      },
      "outputs": [],
      "source": [
        "def review_rating(string):\n",
        "    scores = sid.polarity_scores(string)\n",
        "\n",
        "    # Determine the sentiment based on the compound score\n",
        "    if scores['compound'] >= 0.05:\n",
        "        return \"Positive\"\n",
        "    elif scores['compound'] <= -0.05:\n",
        "        return \"Negative\"\n",
        "    else:\n",
        "        return \"Neutral\"\n",
        ""
      ]
    },
    {
      "cell_type": "code",
      "execution_count": 46,
      "metadata": {
        "colab": {
          "base_uri": "https://localhost:8080/",
          "height": 35
        },
        "id": "Y-Ph6ImFvdPG",
        "outputId": "7abc526b-6b25-4a4c-a130-9e39b0552a9f"
      },
      "outputs": [
        {
          "output_type": "execute_result",
          "data": {
            "text/plain": [
              "'Positive'"
            ],
            "application/vnd.google.colaboratory.intrinsic+json": {
              "type": "string"
            }
          },
          "metadata": {},
          "execution_count": 46
        }
      ],
      "source": [
        "# Test the function on your review above:\n",
        "review_rating(review)"
      ]
    }
  ],
  "metadata": {
    "kernelspec": {
      "display_name": "Python 3 (ipykernel)",
      "language": "python",
      "name": "python3"
    },
    "language_info": {
      "codemirror_mode": {
        "name": "ipython",
        "version": 3
      },
      "file_extension": ".py",
      "mimetype": "text/x-python",
      "name": "python",
      "nbconvert_exporter": "python",
      "pygments_lexer": "ipython3",
      "version": "3.8.16"
    },
    "colab": {
      "provenance": [],
      "toc_visible": true
    }
  },
  "nbformat": 4,
  "nbformat_minor": 0
}