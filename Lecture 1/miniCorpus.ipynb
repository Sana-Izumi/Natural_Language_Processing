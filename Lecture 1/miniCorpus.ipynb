{
 "cells": [
  {
   "cell_type": "code",
   "execution_count": null,
   "metadata": {},
   "outputs": [
    {
     "ename": "",
     "evalue": "",
     "output_type": "error",
     "traceback": [
      "\u001b[1;31mRunning cells with 'c:\\Python311\\python.exe' requires the ipykernel package.\n",
      "\u001b[1;31mRun the following command to install 'ipykernel' into the Python environment. \n",
      "\u001b[1;31mCommand: 'c:/Python311/python.exe -m pip install ipykernel -U --user --force-reinstall'"
     ]
    }
   ],
   "source": [
    "from gensim import corpora, models\n",
    "import spacy\n",
    "\n",
    "# Load the spaCy model\n",
    "nlp = spacy.load('en_core_web_sm')\n",
    "\n",
    "# Your documents\n",
    "documents = [\n",
    "    \"The Japanese have long been revered and studied for their long life expectancy, which is higher than almost anywhere else in the world.\",\n",
    "    \"So why is the traditional Japanese diet so healthy and what do they eat?\",\n",
    "    \"The traditional Japanese diet is largely fresh and unprocessed, with very few refined ingredients and sugar\",\n",
    "    \"In fact, it isn’t that dissimilar to a traditional Chinese diet, with staples including rice, cooked and pickled vegetables, fish and meat\",\n",
    "    \"However, because Japan is actually a group of islands (all 6,852 of them), its residents consume a lot more fish compared to other Asian countries.\",\n",
    "    \"They also eat raw fish in sushi and sashimi, plus quite a few pickled, fermented and smoked foods.\",\n",
    "    \"What are the components of a traditional Japanese diet?\",\n",
    "    \"Soya beans, usually in the form of tofu or fresh edamame, are a key part of the Japanese diet, along with other beans such as aduki.\",\n",
    "    \"Fermented soy bean products such as miso and natto are popular staples.\",\n",
    "    \"Natto is traditionally consumed at breakfast and has a beneficial effect on the gut and supports blood clotting.\",\n",
    "    \"The Japanese also consume a wide variety of land and sea vegetables including seaweed, which is packed full of health-boosting minerals, and may help to reduce blood pressure.\",\n",
    "    \"Fruit is often consumed with breakfast or as a dessert, especially Fuji apples, tangerines and persimmons.\",\n",
    "    \"Alongside their diet, the Japanese are big fans of green tea – in particular matcha tea, which is fast gaining popularity elsewhere, including the UK. Matcha, a stone-ground powdered green tea, is most valued for its high antioxidant compounds known as catechins, which have been linked to fighting cancer, viruses and heart disease.\",\n",
    "    \"a diet high in grains and vegetables, with moderate amounts of animal products and soy but minimal dairy and fruit – had a reduced risk of dying early from heart disease or stroke. \",\n",
    "    \"As their diet is traditionally high in soy and fish this may also play a significant role in reduced risk of cardiovascular disease.\",\n",
    "    \"The Japanese also have the lowest rates of obesity among men and women as well as long life expectancy.\",\n",
    "    \"The island of Okinawa, in southernmost Japan, has the highest number of centenarians in the world as well as the lowest risk of age-related diseases (for example diabetes, cancer, arthritis and Alzheimer’s).\",\n",
    "    \"This has partly been attributed to their traditional Japanese diet, which is low in calories and saturated fat yet high in nutrients, especially phytonutrients including flavonoids, found in different coloured vegetables.\",\n",
    "    \"This also includes phytoestrogens, or plant-based oestrogens, that may help protect against hormone-dependent cancers, such as breast cancer.\",\n",
    "    \"The diet of the Okinawan people has been little influenced by the dietary changes of the Western culture, which have been seen in more urban Japan.\",\n",
    "    \"Traditionally, the Japanese tend to have a healthy attitude to food and eating.\",\n",
    "    \"They have a saying, “hara hachi bu”, which means to eat until you are 80 percents full, and it's not uncommon to teach children this philosophy from a young age.\",\n",
    "    \"The way the Japanese serve their food is also key. Rather than having one large plate, they often eat from a small bowl while enjoying several different dishes, usually rice, miso, some fish or meat and then two or three vegetables dishes, often served communally and eaten in rotation\",\n",
    "    \"The Japanese are also strong believers in ‘flexible restraint’ when it comes to treats and snacks, enjoying them from time to time but in smaller portions.\",\n",
    "\n",
    "]"
   ]
  },
  {
   "cell_type": "code",
   "execution_count": null,
   "metadata": {},
   "outputs": [],
   "source": []
  },
  {
   "cell_type": "code",
   "execution_count": null,
   "metadata": {},
   "outputs": [],
   "source": [
    "# Preprocess documents\n",
    "texts = []\n",
    "for document in documents:\n",
    "    doc = nlp(document)\n",
    "    texts.append([w.lemma_ for w in doc if not w.is_stop and not w.is_punct and not w.like_num])\n"
   ]
  },
  {
   "cell_type": "code",
   "execution_count": null,
   "metadata": {},
   "outputs": [],
   "source": [
    "# Create a dictionary representation of the documents.\n",
    "dictionary = corpora.Dictionary(texts)\n",
    "print(dictionary.token2id)\n"
   ]
  },
  {
   "cell_type": "code",
   "execution_count": null,
   "metadata": {},
   "outputs": [],
   "source": [
    "# Convert dictionary to a Bag of Words\n",
    "corpus = [dictionary.doc2bow(text) for text in texts]\n",
    "\n",
    "# Optionally, save your corpus to disk\n",
    "corpora.MmCorpus.serialize('/tmp/example.mm', corpus)\n",
    "\n",
    "# Create a TF-IDF model from the corpus\n",
    "tfidf = models.TfidfModel(corpus)  # fit model\n",
    "corpus_tfidf = tfidf[corpus]\n",
    "\n",
    "# To save the TF-IDF corpus to disk similar to BOW\n",
    "corpora.MmCorpus.serialize('/tmp/corpus_tfidf.mm', corpus_tfidf)\n",
    "\n",
    "# If you want to see what's in your TF-IDF corpus for the first document\n",
    "print(list(corpus_tfidf)[0])"
   ]
  }
 ],
 "metadata": {
  "kernelspec": {
   "display_name": "Python 3",
   "language": "python",
   "name": "python3"
  },
  "language_info": {
   "name": "python",
   "version": "3.11.0"
  },
  "orig_nbformat": 4,
  "vscode": {
   "interpreter": {
    "hash": "c261aea317cc0286b3b3261fbba9abdec21eaa57589985bb7a274bf54d6cc0a7"
   }
  }
 },
 "nbformat": 4,
 "nbformat_minor": 2
}
