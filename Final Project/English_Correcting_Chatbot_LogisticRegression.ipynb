{
  "nbformat": 4,
  "nbformat_minor": 0,
  "metadata": {
    "colab": {
      "provenance": [],
      "authorship_tag": "ABX9TyPR/34hY2ljWMLdOTuSa8hZ",
      "include_colab_link": true
    },
    "kernelspec": {
      "name": "python3",
      "display_name": "Python 3"
    },
    "language_info": {
      "name": "python"
    }
  },
  "cells": [
    {
      "cell_type": "markdown",
      "metadata": {
        "id": "view-in-github",
        "colab_type": "text"
      },
      "source": [
        "<a href=\"https://colab.research.google.com/github/Sana-Izumi/Natural_Language_Processing/blob/main/Final%20Project/English_Correcting_Chatbot_LogisticRegression.ipynb\" target=\"_parent\"><img src=\"https://colab.research.google.com/assets/colab-badge.svg\" alt=\"Open In Colab\"/></a>"
      ]
    },
    {
      "cell_type": "markdown",
      "source": [
        "Load Data from a Corpus or Dataset"
      ],
      "metadata": {
        "id": "qsC5jcB8IpBa"
      }
    },
    {
      "cell_type": "code",
      "execution_count": 1,
      "metadata": {
        "colab": {
          "base_uri": "https://localhost:8080/"
        },
        "id": "94xRXOlL9zkK",
        "outputId": "65c9fca3-20d6-4600-f81f-9d26d68718d6"
      },
      "outputs": [
        {
          "output_type": "stream",
          "name": "stderr",
          "text": [
            "[nltk_data] Downloading package words to /root/nltk_data...\n",
            "[nltk_data]   Package words is already up-to-date!\n"
          ]
        },
        {
          "output_type": "stream",
          "name": "stdout",
          "text": [
            "Total words in the dataset: 236736\n"
          ]
        }
      ],
      "source": [
        "import nltk\n",
        "from nltk.corpus import words\n",
        "\n",
        "# Download the dataset if not already done\n",
        "nltk.download('words')\n",
        "\n",
        "# Load the dataset\n",
        "word_list = words.words()\n",
        "print(f\"Total words in the dataset: {len(word_list)}\")\n"
      ]
    },
    {
      "cell_type": "markdown",
      "source": [
        "Create a Corpus with Misspelled Words"
      ],
      "metadata": {
        "id": "GG23oZEFI9hf"
      }
    },
    {
      "cell_type": "code",
      "source": [
        "import random\n",
        "\n",
        "def introduce_misspellings(word, error_rate=0.1):\n",
        "    if random.random() < error_rate:\n",
        "        index = random.randint(0, len(word) - 1)\n",
        "        return word[:index] + random.choice('abcdefghijklmnopqrstuvwxyz') + word[index + 1:]\n",
        "    return word\n",
        "\n",
        "# Create a dataset with misspellings\n",
        "misspelled_word_list = [introduce_misspellings(word) for word in word_list]\n",
        "\n",
        "# Combine correct and misspelled words\n",
        "combined_word_list = word_list + misspelled_word_list\n",
        "labels = [0] * len(word_list) + [1] * len(misspelled_word_list)\n"
      ],
      "metadata": {
        "id": "AmF27UThI-yl"
      },
      "execution_count": 2,
      "outputs": []
    },
    {
      "cell_type": "code",
      "source": [],
      "metadata": {
        "id": "FllVTNCn3fr5"
      },
      "execution_count": null,
      "outputs": []
    },
    {
      "cell_type": "code",
      "source": [
        "import random\n",
        "\n",
        "def introduce_misspellings(word, error_rate=0.5):\n",
        "    if random.random() < error_rate:\n",
        "        index = random.randint(0, len(word) - 1)\n",
        "        return word[:index] + random.choice('abcdefghijklmnopqrstuvwxyz') + word[index + 1:]\n",
        "    return word\n",
        "\n",
        "# Create a dataset with misspellings\n",
        "misspelled_word_list = [introduce_misspellings(word) for word in word_list]\n",
        "\n",
        "# Combine correct and misspelled words\n",
        "combined_word_list = word_list + misspelled_word_list\n",
        "labels = [0] * len(word_list) + [1] * len(misspelled_word_list)\n"
      ],
      "metadata": {
        "id": "lu1gczDF3f8Y"
      },
      "execution_count": 7,
      "outputs": []
    },
    {
      "cell_type": "code",
      "source": [],
      "metadata": {
        "id": "4yo00Pfd3hpJ"
      },
      "execution_count": null,
      "outputs": []
    },
    {
      "cell_type": "code",
      "source": [
        "import random\n",
        "\n",
        "def introduce_misspellings(word, error_rate=0.8):\n",
        "    if random.random() < error_rate:\n",
        "        index = random.randint(0, len(word) - 1)\n",
        "        return word[:index] + random.choice('abcdefghijklmnopqrstuvwxyz') + word[index + 1:]\n",
        "    return word\n",
        "\n",
        "# Create a dataset with misspellings\n",
        "misspelled_word_list = [introduce_misspellings(word) for word in word_list]\n",
        "\n",
        "# Combine correct and misspelled words\n",
        "combined_word_list = word_list + misspelled_word_list\n",
        "labels = [0] * len(word_list) + [1] * len(misspelled_word_list)\n"
      ],
      "metadata": {
        "id": "sr8CmLhI3h3P"
      },
      "execution_count": 9,
      "outputs": []
    },
    {
      "cell_type": "markdown",
      "source": [
        "Data Preprocessing and Vectorization: Using TF-IDF vectorization for converting words into numerical features."
      ],
      "metadata": {
        "id": "Uc7wTKvyJCIv"
      }
    },
    {
      "cell_type": "code",
      "source": [
        "from sklearn.feature_extraction.text import TfidfVectorizer\n",
        "\n",
        "vectorizer = TfidfVectorizer(analyzer='char', ngram_range=(1, 3))\n",
        "X = vectorizer.fit_transform(combined_word_list)\n"
      ],
      "metadata": {
        "id": "PZXJPr03JJRR"
      },
      "execution_count": 3,
      "outputs": []
    },
    {
      "cell_type": "markdown",
      "source": [
        "Train the model"
      ],
      "metadata": {
        "id": "DeeMy5HgJLRY"
      }
    },
    {
      "cell_type": "code",
      "source": [
        "from sklearn.preprocessing import StandardScaler\n",
        "from sklearn.pipeline import Pipeline\n",
        "from sklearn.model_selection import train_test_split\n",
        "from sklearn.linear_model import LogisticRegression\n",
        "from sklearn.metrics import accuracy_score, classification_report\n",
        "\n",
        "# Split the data\n",
        "X_train, X_test, y_train, y_test = train_test_split(X, labels, test_size=0.2, random_state=42)\n",
        "\n",
        "# Create a pipeline with scaling and logistic regression using 'liblinear' solver\n",
        "pipeline = Pipeline([\n",
        "    ('scaler', StandardScaler(with_mean=False)),  # Scaling the data\n",
        "    ('logreg', LogisticRegression(max_iter=1000, solver='liblinear'))  # Use 'liblinear' solver\n",
        "])\n",
        "\n",
        "# Train the model\n",
        "pipeline.fit(X_train, y_train)\n",
        "\n",
        "# Evaluate the model\n",
        "y_pred = pipeline.predict(X_test)\n",
        "print(f\"Accuracy: {accuracy_score(y_test, y_pred)}\")\n",
        "print(classification_report(y_test, y_pred))\n"
      ],
      "metadata": {
        "colab": {
          "base_uri": "https://localhost:8080/"
        },
        "id": "YzG8BZoJX55F",
        "outputId": "b3813ef4-94b7-4136-cf3f-3a0f45a64f7b"
      },
      "execution_count": 4,
      "outputs": [
        {
          "output_type": "stream",
          "name": "stdout",
          "text": [
            "Accuracy: 0.4645123818575426\n",
            "              precision    recall  f1-score   support\n",
            "\n",
            "           0       0.47      0.65      0.55     47305\n",
            "           1       0.44      0.28      0.35     47390\n",
            "\n",
            "    accuracy                           0.46     94695\n",
            "   macro avg       0.46      0.46      0.45     94695\n",
            "weighted avg       0.46      0.46      0.45     94695\n",
            "\n"
          ]
        }
      ]
    },
    {
      "cell_type": "code",
      "source": [],
      "metadata": {
        "id": "brbs17uy8-Pg"
      },
      "execution_count": null,
      "outputs": []
    },
    {
      "cell_type": "code",
      "source": [
        "#error_rate 0.5\n",
        "from sklearn.preprocessing import StandardScaler\n",
        "from sklearn.pipeline import Pipeline\n",
        "from sklearn.model_selection import train_test_split\n",
        "from sklearn.linear_model import LogisticRegression\n",
        "from sklearn.metrics import accuracy_score, classification_report\n",
        "\n",
        "# Split the data\n",
        "X_train, X_test, y_train, y_test = train_test_split(X, labels, test_size=0.2, random_state=42)\n",
        "\n",
        "# Create a pipeline with scaling and logistic regression using 'liblinear' solver\n",
        "pipeline = Pipeline([\n",
        "    ('scaler', StandardScaler(with_mean=False)),  # Scaling the data\n",
        "    ('logreg', LogisticRegression(max_iter=1000, solver='liblinear'))  # Use 'liblinear' solver\n",
        "])\n",
        "\n",
        "# Train the model\n",
        "pipeline.fit(X_train, y_train)\n",
        "\n",
        "# Evaluate the model\n",
        "y_pred = pipeline.predict(X_test)\n",
        "print(f\"Accuracy: {accuracy_score(y_test, y_pred)}\")\n",
        "print(classification_report(y_test, y_pred))\n"
      ],
      "metadata": {
        "outputId": "f52a455f-84fd-4034-99c3-a57fbf5a2378",
        "colab": {
          "base_uri": "https://localhost:8080/"
        },
        "id": "D6XKVs7S8-zk"
      },
      "execution_count": 8,
      "outputs": [
        {
          "output_type": "stream",
          "name": "stdout",
          "text": [
            "Accuracy: 0.4645123818575426\n",
            "              precision    recall  f1-score   support\n",
            "\n",
            "           0       0.47      0.65      0.55     47305\n",
            "           1       0.44      0.28      0.35     47390\n",
            "\n",
            "    accuracy                           0.46     94695\n",
            "   macro avg       0.46      0.46      0.45     94695\n",
            "weighted avg       0.46      0.46      0.45     94695\n",
            "\n"
          ]
        }
      ]
    },
    {
      "cell_type": "code",
      "source": [],
      "metadata": {
        "id": "QHw1a71b9GDi"
      },
      "execution_count": null,
      "outputs": []
    },
    {
      "cell_type": "code",
      "source": [
        "#error_rate 0.8\n",
        "from sklearn.preprocessing import StandardScaler\n",
        "from sklearn.pipeline import Pipeline\n",
        "from sklearn.model_selection import train_test_split\n",
        "from sklearn.linear_model import LogisticRegression\n",
        "from sklearn.metrics import accuracy_score, classification_report\n",
        "\n",
        "# Split the data\n",
        "X_train, X_test, y_train, y_test = train_test_split(X, labels, test_size=0.2, random_state=42)\n",
        "\n",
        "# Create a pipeline with scaling and logistic regression using 'liblinear' solver\n",
        "pipeline = Pipeline([\n",
        "    ('scaler', StandardScaler(with_mean=False)),  # Scaling the data\n",
        "    ('logreg', LogisticRegression(max_iter=1000, solver='liblinear'))  # Use 'liblinear' solver\n",
        "])\n",
        "\n",
        "# Train the model\n",
        "pipeline.fit(X_train, y_train)\n",
        "\n",
        "# Evaluate the model\n",
        "y_pred = pipeline.predict(X_test)\n",
        "print(f\"Accuracy: {accuracy_score(y_test, y_pred)}\")\n",
        "print(classification_report(y_test, y_pred))\n"
      ],
      "metadata": {
        "outputId": "39c3b1da-ab35-4530-fc6e-662636750eea",
        "colab": {
          "base_uri": "https://localhost:8080/"
        },
        "id": "_FtQHoEk9GT4"
      },
      "execution_count": 10,
      "outputs": [
        {
          "output_type": "stream",
          "name": "stdout",
          "text": [
            "Accuracy: 0.4645123818575426\n",
            "              precision    recall  f1-score   support\n",
            "\n",
            "           0       0.47      0.65      0.55     47305\n",
            "           1       0.44      0.28      0.35     47390\n",
            "\n",
            "    accuracy                           0.46     94695\n",
            "   macro avg       0.46      0.46      0.45     94695\n",
            "weighted avg       0.46      0.46      0.45     94695\n",
            "\n"
          ]
        }
      ]
    },
    {
      "cell_type": "markdown",
      "source": [
        "Evaluate the model"
      ],
      "metadata": {
        "id": "2ZwncIp7JTp8"
      }
    },
    {
      "cell_type": "code",
      "source": [
        "import matplotlib.pyplot as plt\n",
        "\n",
        "# Plotting accuracy\n",
        "plt.plot(y_test, label='True Values')\n",
        "plt.plot(y_pred, label='Predictions')\n",
        "plt.legend()\n",
        "plt.show()\n"
      ],
      "metadata": {
        "colab": {
          "base_uri": "https://localhost:8080/",
          "height": 430
        },
        "id": "PdV9EmH_JVR4",
        "outputId": "db0c6602-3992-4db3-d340-91dfa2f661d2"
      },
      "execution_count": 5,
      "outputs": [
        {
          "output_type": "display_data",
          "data": {
            "text/plain": [
              "<Figure size 640x480 with 1 Axes>"
            ],
            "image/png": "[encoded data removed]"
          },
          "metadata": {}
        }
      ]
    },
    {
      "cell_type": "markdown",
      "source": [
        "Chatbot Implementation"
      ],
      "metadata": {
        "id": "Z-JDsV5HJbNx"
      }
    },
    {
      "cell_type": "code",
      "source": [
        "def correct_spelling(input_word):\n",
        "    input_vector = vectorizer.transform([input_word])\n",
        "    prediction = pipeline.predict(input_vector)\n",
        "\n",
        "    if prediction == 0:\n",
        "        return \"Nothing Wrong!\"\n",
        "\n",
        "    # Find the most similar word\n",
        "    similarities = model.predict_proba(input_vector)[0]\n",
        "    best_match = word_list[similarities.argmax()]\n",
        "    accuracy = similarities.max() * 100\n",
        "\n",
        "    return f\"Suggested Correction: {best_match}, Matching Accuracy: {accuracy:.2f}%\"\n",
        "\n",
        "# Example usage\n",
        "print(correct_spelling(\"Harro\"))\n",
        "print(correct_spelling(\"correct\"))\n"
      ],
      "metadata": {
        "colab": {
          "base_uri": "https://localhost:8080/"
        },
        "id": "eJd70dWQJd6M",
        "outputId": "f4e09025-254b-4bcf-9326-af8edc1702ff"
      },
      "execution_count": 6,
      "outputs": [
        {
          "output_type": "stream",
          "name": "stdout",
          "text": [
            "Nothing Wrong!\n",
            "Nothing Wrong!\n"
          ]
        }
      ]
    }
  ]
}